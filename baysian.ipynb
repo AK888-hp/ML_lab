{
 "cells": [
  {
   "cell_type": "code",
   "execution_count": null,
   "id": "8a665f0d",
   "metadata": {},
   "outputs": [
    {
     "name": "stdout",
     "output_type": "stream",
     "text": [
      "     0     1     2    3     4     5     6     7     8     9   ...    48  \\\n",
      "0  0.00  0.64  0.64  0.0  0.32  0.00  0.00  0.00  0.00  0.00  ...  0.00   \n",
      "1  0.21  0.28  0.50  0.0  0.14  0.28  0.21  0.07  0.00  0.94  ...  0.00   \n",
      "2  0.06  0.00  0.71  0.0  1.23  0.19  0.19  0.12  0.64  0.25  ...  0.01   \n",
      "3  0.00  0.00  0.00  0.0  0.63  0.00  0.31  0.63  0.31  0.63  ...  0.00   \n",
      "4  0.00  0.00  0.00  0.0  0.63  0.00  0.31  0.63  0.31  0.63  ...  0.00   \n",
      "\n",
      "      49   50     51     52     53     54   55    56  57  \n",
      "0  0.000  0.0  0.778  0.000  0.000  3.756   61   278   1  \n",
      "1  0.132  0.0  0.372  0.180  0.048  5.114  101  1028   1  \n",
      "2  0.143  0.0  0.276  0.184  0.010  9.821  485  2259   1  \n",
      "3  0.137  0.0  0.137  0.000  0.000  3.537   40   191   1  \n",
      "4  0.135  0.0  0.135  0.000  0.000  3.537   40   191   1  \n",
      "\n",
      "[5 rows x 58 columns]\n"
     ]
    }
   ],
   "source": [
    "import pandas as pd\n",
    "\n",
    "url = \"https://archive.ics.uci.edu/ml/machine-learning-databases/spambase/spambase.data\"\n",
    "\n",
    "spambase_df = pd.read_csv(url, header=None)\n",
    "\n",
    "print(spambase_df.head())\n"
   ]
  },
  {
   "cell_type": "code",
   "execution_count": 4,
   "id": "56457398",
   "metadata": {},
   "outputs": [],
   "source": [
    "not_spam = spambase_df[spambase_df.iloc[:, -1] == 0]\n",
    "spam = spambase_df[spambase_df.iloc[:, -1] == 1]"
   ]
  },
  {
   "cell_type": "code",
   "execution_count": 5,
   "id": "a922c451",
   "metadata": {},
   "outputs": [],
   "source": [
    "prior_not_spam = len(not_spam) / len(spambase_df)\n",
    "prior_spam = len(spam) / len(spambase_df)"
   ]
  },
  {
   "cell_type": "code",
   "execution_count": 6,
   "id": "7d173db9",
   "metadata": {},
   "outputs": [],
   "source": [
    "summary_not_spam = not_spam.describe()\n",
    "summary_spam = spam.describe()"
   ]
  },
  {
   "cell_type": "code",
   "execution_count": 7,
   "id": "759861f7",
   "metadata": {},
   "outputs": [],
   "source": [
    "import numpy as np\n",
    "\n",
    "def gaussian_pdf(x, mean, stdev):\n",
    "    exponent = np.exp(-((x - mean) ** 2) / (2 * stdev ** 2))\n",
    "    return (1 / (np.sqrt(2 * np.pi) * stdev)) * exponent"
   ]
  },
  {
   "cell_type": "code",
   "execution_count": null,
   "id": "d6e45a8e",
   "metadata": {},
   "outputs": [],
   "source": [
    "def predict(row):\n",
    "    \n",
    "    posterior_not_spam = np.log(prior_not_spam)\n",
    "    for i in range(len(row) - 1):\n",
    "        mean = summary_not_spam.iloc[1, i]\n",
    "        stdev = summary_not_spam.iloc[2, i]\n",
    "        posterior_not_spam += np.log(gaussian_pdf(row[i], mean, stdev))\n",
    "\n",
    "    posterior_spam = np.log(prior_spam)\n",
    "    for i in range(len(row) - 1):\n",
    "        mean = summary_spam.iloc[1, i]\n",
    "        stdev = summary_spam.iloc[2, i]\n",
    "        posterior_spam += np.log(gaussian_pdf(row[i], mean, stdev))\n",
    "\n",
    "    return 0 if posterior_not_spam > posterior_spam else 1"
   ]
  },
  {
   "cell_type": "code",
   "execution_count": 9,
   "id": "f96521fd",
   "metadata": {},
   "outputs": [
    {
     "name": "stderr",
     "output_type": "stream",
     "text": [
      "C:\\Users\\Anantha krishna rao\\AppData\\Local\\Temp\\ipykernel_15064\\102617710.py:14: RuntimeWarning: divide by zero encountered in log\n",
      "  posterior_spam += np.log(gaussian_pdf(row[i], mean, stdev))\n",
      "C:\\Users\\Anantha krishna rao\\AppData\\Local\\Temp\\ipykernel_15064\\102617710.py:7: RuntimeWarning: divide by zero encountered in log\n",
      "  posterior_not_spam += np.log(gaussian_pdf(row[i], mean, stdev))\n"
     ]
    },
    {
     "name": "stdout",
     "output_type": "stream",
     "text": [
      "Accuracy: 0.8230184581976113\n"
     ]
    }
   ],
   "source": [
    "from sklearn.model_selection import train_test_split\n",
    "from sklearn.metrics import accuracy_score\n",
    "\n",
    "X = spambase_df.iloc[:, :-1]\n",
    "y = spambase_df.iloc[:, -1]\n",
    "X_train, X_test, y_train, y_test = train_test_split(X, y, test_size=0.2, random_state=42)\n",
    "\n",
    "predictions = X_test.apply(predict, axis=1)\n",
    "\n",
    "accuracy = accuracy_score(y_test, predictions)\n",
    "print(f\"Accuracy: {accuracy}\")"
   ]
  },
  {
   "cell_type": "code",
   "execution_count": null,
   "id": "73c8b45e",
   "metadata": {},
   "outputs": [],
   "source": []
  }
 ],
 "metadata": {
  "kernelspec": {
   "display_name": "env",
   "language": "python",
   "name": "python3"
  },
  "language_info": {
   "codemirror_mode": {
    "name": "ipython",
    "version": 3
   },
   "file_extension": ".py",
   "mimetype": "text/x-python",
   "name": "python",
   "nbconvert_exporter": "python",
   "pygments_lexer": "ipython3",
   "version": "3.13.7"
  }
 },
 "nbformat": 4,
 "nbformat_minor": 5
}
