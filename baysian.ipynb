{
 "cells": [
  {
   "cell_type": "code",
   "execution_count": 25,
   "id": "8a665f0d",
   "metadata": {},
   "outputs": [
    {
     "name": "stdout",
     "output_type": "stream",
     "text": [
      "     0     1     2    3     4     5     6     7     8     9   ...    48  \\\n",
      "0  0.00  0.64  0.64  0.0  0.32  0.00  0.00  0.00  0.00  0.00  ...  0.00   \n",
      "1  0.21  0.28  0.50  0.0  0.14  0.28  0.21  0.07  0.00  0.94  ...  0.00   \n",
      "2  0.06  0.00  0.71  0.0  1.23  0.19  0.19  0.12  0.64  0.25  ...  0.01   \n",
      "3  0.00  0.00  0.00  0.0  0.63  0.00  0.31  0.63  0.31  0.63  ...  0.00   \n",
      "4  0.00  0.00  0.00  0.0  0.63  0.00  0.31  0.63  0.31  0.63  ...  0.00   \n",
      "\n",
      "      49   50     51     52     53     54   55    56  57  \n",
      "0  0.000  0.0  0.778  0.000  0.000  3.756   61   278   1  \n",
      "1  0.132  0.0  0.372  0.180  0.048  5.114  101  1028   1  \n",
      "2  0.143  0.0  0.276  0.184  0.010  9.821  485  2259   1  \n",
      "3  0.137  0.0  0.137  0.000  0.000  3.537   40   191   1  \n",
      "4  0.135  0.0  0.135  0.000  0.000  3.537   40   191   1  \n",
      "\n",
      "[5 rows x 58 columns]\n"
     ]
    }
   ],
   "source": [
    "import pandas as pd\n",
    "import numpy as np\n",
    "from sklearn.model_selection import train_test_split\n",
    "from sklearn.metrics import accuracy_score,  confusion_matrix\n",
    "import seaborn as sns\n",
    "import matplotlib.pyplot as plt\n",
    "\n",
    "url = \"https://archive.ics.uci.edu/ml/machine-learning-databases/spambase/spambase.data\"\n",
    "\n",
    "spambase_df = pd.read_csv(url, header=None)\n",
    "\n",
    "print(spambase_df.head())\n"
   ]
  },
  {
   "cell_type": "code",
   "execution_count": 26,
   "id": "56457398",
   "metadata": {},
   "outputs": [],
   "source": [
    "not_spam = spambase_df[spambase_df.iloc[:, -1] == 0]\n",
    "spam = spambase_df[spambase_df.iloc[:, -1] == 1]"
   ]
  },
  {
   "cell_type": "code",
   "execution_count": 27,
   "id": "a922c451",
   "metadata": {},
   "outputs": [],
   "source": [
    "prior_not_spam = len(not_spam) / len(spambase_df)\n",
    "prior_spam = len(spam) / len(spambase_df)"
   ]
  },
  {
   "cell_type": "code",
   "execution_count": 28,
   "id": "7d173db9",
   "metadata": {},
   "outputs": [],
   "source": [
    "summary_not_spam = not_spam.describe()\n",
    "summary_spam = spam.describe()"
   ]
  },
  {
   "cell_type": "code",
   "execution_count": 29,
   "id": "759861f7",
   "metadata": {},
   "outputs": [],
   "source": [
    "import numpy as np\n",
    "\n",
    "def gaussian_pdf(x, mean, stdev):\n",
    "    epsilon = 1e-9\n",
    "    if stdev < epsilon:\n",
    "        stdev = epsilon\n",
    "    exponent = np.exp(-((x - mean) ** 2) / (2 * stdev ** 2))\n",
    "    return (1 / (np.sqrt(2 * np.pi) * stdev)) * exponent"
   ]
  },
  {
   "cell_type": "code",
   "execution_count": 30,
   "id": "d6e45a8e",
   "metadata": {},
   "outputs": [],
   "source": [
    "def predict_and_show_posteriors(row):\n",
    "    log_posterior_not_spam = np.log(prior_not_spam)\n",
    "    for i in range(len(row) - 1):\n",
    "        mean = summary_not_spam.iloc[1, i]\n",
    "        stdev = summary_not_spam.iloc[2, i]\n",
    "        log_posterior_not_spam += np.log(gaussian_pdf(row[i], mean, stdev))\n",
    "\n",
    "    log_posterior_spam = np.log(prior_spam)\n",
    "    for i in range(len(row) - 1):\n",
    "        mean = summary_spam.iloc[1, i]\n",
    "        stdev = summary_spam.iloc[2, i]\n",
    "        log_posterior_spam += np.log(gaussian_pdf(row[i], mean, stdev))\n",
    "        \n",
    "    max_log = max(log_posterior_not_spam, log_posterior_spam)\n",
    "    \n",
    "    post_not_spam_unnormalized = np.exp(log_posterior_not_spam - max_log)\n",
    "    post_spam_unnormalized = np.exp(log_posterior_spam - max_log)\n",
    "    \n",
    "    evidence = post_not_spam_unnormalized + post_spam_unnormalized\n",
    "    \n",
    "    posterior_not_spam = post_not_spam_unnormalized / evidence\n",
    "    posterior_spam = post_spam_unnormalized / evidence\n",
    "\n",
    "    decision = 0 if posterior_not_spam > posterior_spam else 1\n",
    "    \n",
    "    return decision, posterior_not_spam, posterior_spam"
   ]
  },
  {
   "cell_type": "code",
   "execution_count": 21,
   "id": "f96521fd",
   "metadata": {},
   "outputs": [
    {
     "name": "stdout",
     "output_type": "stream",
     "text": [
      "--- Posterior Probabilities for Test Samples ---\n",
      "\n",
      "Sample #1:\n",
      "  Posterior P(Not Spam | features): 0.0000\n",
      "  Posterior P(Spam | features)    : 1.0000\n",
      "  Model Decision: Spam\n",
      "  Actual Label  : Not Spam\n",
      "\n",
      "Sample #2:\n",
      "  Posterior P(Not Spam | features): 1.0000\n",
      "  Posterior P(Spam | features)    : 0.0000\n",
      "  Model Decision: Not Spam\n",
      "  Actual Label  : Not Spam\n",
      "\n",
      "Sample #3:\n",
      "  Posterior P(Not Spam | features): 1.0000\n",
      "  Posterior P(Spam | features)    : 0.0000\n",
      "  Model Decision: Not Spam\n",
      "  Actual Label  : Not Spam\n",
      "\n",
      "Sample #4:\n",
      "  Posterior P(Not Spam | features): 0.0000\n",
      "  Posterior P(Spam | features)    : 1.0000\n",
      "  Model Decision: Spam\n",
      "  Actual Label  : Spam\n",
      "\n",
      "Sample #5:\n",
      "  Posterior P(Not Spam | features): 1.0000\n",
      "  Posterior P(Spam | features)    : 0.0000\n",
      "  Model Decision: Not Spam\n",
      "  Actual Label  : Not Spam\n"
     ]
    },
    {
     "name": "stderr",
     "output_type": "stream",
     "text": [
      "C:\\Users\\Anantha krishna rao\\AppData\\Local\\Temp\\ipykernel_15064\\4075556567.py:12: RuntimeWarning: divide by zero encountered in log\n",
      "  log_posterior_spam += np.log(gaussian_pdf(row[i], mean, stdev))\n"
     ]
    }
   ],
   "source": [
    "X = spambase_df.iloc[:, :-1]\n",
    "y = spambase_df.iloc[:, -1]\n",
    "X_train, X_test, y_train, y_test = train_test_split(X, y, test_size=0.2, random_state=42)\n",
    "\n",
    "print(\"--- Posterior Probabilities for Test Samples ---\")\n",
    "# Let's check the first 5 emails from the test set\n",
    "for i in range(5):\n",
    "    row = X_test.iloc[i]\n",
    "    true_label = y_test.iloc[i]\n",
    "    decision, post_not_spam, post_spam = predict_and_show_posteriors(row)\n",
    "    \n",
    "    print(f\"\\nSample #{i+1}:\")\n",
    "    print(f\"  Posterior P(Not Spam | features): {post_not_spam:.4f}\")\n",
    "    print(f\"  Posterior P(Spam | features)    : {post_spam:.4f}\")\n",
    "    print(f\"  Model Decision: {'Not Spam' if decision == 0 else 'Spam'}\")\n",
    "    print(f\"  Actual Label  : {'Not Spam' if true_label == 0 else 'Spam'}\")"
   ]
  },
  {
   "cell_type": "code",
   "execution_count": 31,
   "id": "73c8b45e",
   "metadata": {},
   "outputs": [
    {
     "name": "stdout",
     "output_type": "stream",
     "text": [
      "--- Prior Probabilities ---\n",
      "P(Not Spam): 0.6060\n",
      "P(Spam)    : 0.3940\n",
      "\n"
     ]
    }
   ],
   "source": [
    "print(\"--- Prior Probabilities ---\")\n",
    "print(f\"P(Not Spam): {prior_not_spam:.4f}\")\n",
    "print(f\"P(Spam)    : {prior_spam:.4f}\\n\")"
   ]
  },
  {
   "cell_type": "code",
   "execution_count": 32,
   "id": "00ead8a2",
   "metadata": {},
   "outputs": [
    {
     "name": "stdout",
     "output_type": "stream",
     "text": [
      "--- Confusion Matrix ---\n",
      "[[387 144]\n",
      " [ 19 371]]\n"
     ]
    },
    {
     "data": {
      "image/png": "[encoded data removed]",
      "text/plain": [
       "<Figure size 800x600 with 2 Axes>"
      ]
     },
     "metadata": {},
     "output_type": "display_data"
    }
   ],
   "source": [
    "print(\"--- Confusion Matrix ---\")\n",
    "# Generate the matrix\n",
    "cm = confusion_matrix(y_test, predictions)\n",
    "print(cm)\n",
    "\n",
    "# Create a heatmap for better visualization\n",
    "plt.figure(figsize=(8, 6))\n",
    "sns.heatmap(cm, annot=True, fmt='d', cmap='Blues', \n",
    "            xticklabels=['Not Spam', 'Spam'], \n",
    "            yticklabels=['Not Spam', 'Spam'])\n",
    "plt.xlabel('Predicted Label')\n",
    "plt.ylabel('True Label')\n",
    "plt.title('Confusion Matrix for Spam Classification')\n",
    "plt.show()"
   ]
  },
  {
   "cell_type": "code",
   "execution_count": null,
   "id": "b10ae780",
   "metadata": {},
   "outputs": [],
   "source": []
  }
 ],
 "metadata": {
  "kernelspec": {
   "display_name": "env",
   "language": "python",
   "name": "python3"
  },
  "language_info": {
   "codemirror_mode": {
    "name": "ipython",
    "version": 3
   },
   "file_extension": ".py",
   "mimetype": "text/x-python",
   "name": "python",
   "nbconvert_exporter": "python",
   "pygments_lexer": "ipython3",
   "version": "3.13.7"
  }
 },
 "nbformat": 4,
 "nbformat_minor": 5
}
